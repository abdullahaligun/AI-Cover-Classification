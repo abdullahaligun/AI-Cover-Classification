{
 "cells": [
  {
   "cell_type": "code",
   "execution_count": 13,
   "metadata": {},
   "outputs": [
    {
     "name": "stdout",
     "output_type": "stream",
     "text": [
      "/mnt/d/GITHUB/AbdullahAliGUN/AI-Cover-Classification/DataTransactions\n"
     ]
    }
   ],
   "source": [
    "import soundfile as sf\n",
    "from pytube import YouTube\n",
    "from pydub import AudioSegment\n",
    "import noisereduce as nr\n",
    "import librosa\n",
    "import pandas as pd\n",
    "from googleapiclient.discovery import build\n",
    "import os\n",
    "import json\n",
    "import subprocess\n",
    "import librosa\n",
    "import os\n",
    "## ../AppSettings.py import \n",
    "import sys\n",
    "sys.path.append(\"..\")\n",
    "from AppSettings import AppSetting\n",
    "\n",
    "app_settings = AppSetting()\n",
    "\n",
    "\n"
   ]
  },
  {
   "cell_type": "code",
   "execution_count": 14,
   "metadata": {},
   "outputs": [],
   "source": [
    "\n",
    "def tr_char_to_non_tr_char(text):\n",
    "    tr = \"çğıöşüÇĞİÖŞÜ\"\n",
    "    non_tr = \"cgiosuCGIOSU\"\n",
    "    for i in range(len(tr)):\n",
    "        text = text.replace(tr[i], non_tr[i])\n",
    "    ## Remove special characters\n",
    "    text = ''.join(e for e in text if e.isalnum() or e == ' ')\n",
    "\n",
    "    return text"
   ]
  },
  {
   "cell_type": "code",
   "execution_count": 15,
   "metadata": {},
   "outputs": [],
   "source": [
    "import csv\n",
    "\n",
    "def append_to_csv(link, video_title, tag='AI COVER', file_name='youtube_videos.csv'):\n",
    "    # Dosyanın var olup olmadığını kontrol et ve başlıkları ekle\n",
    "    try:\n",
    "        with open(file_name, 'r', newline='', encoding='utf-8') as file:\n",
    "            existing_videos = [row for row in csv.reader(file)]\n",
    "            links_titles = [row[:2] for row in existing_videos]  # Link ve başlık sütunlarını al\n",
    "    except FileNotFoundError:\n",
    "        existing_videos = []\n",
    "        links_titles = []\n",
    "\n",
    "    # Video daha önce eklenmiş mi kontrol et\n",
    "    if [link, video_title] not in links_titles:\n",
    "        with open(file_name, 'a', newline='', encoding='utf-8') as file:\n",
    "            writer = csv.writer(file)\n",
    "            if not existing_videos:  # Eğer dosya boşsa, başlıkları yaz\n",
    "                writer.writerow(['Link', 'Video Adı', 'Etiket'])\n",
    "            writer.writerow([link, video_title, tag])\n",
    "            print(f\"{video_title} CSV'ye eklendi.\")"
   ]
  },
  {
   "cell_type": "code",
   "execution_count": 16,
   "metadata": {},
   "outputs": [],
   "source": [
    "def search_youtube(query,tag):\n",
    "    youtube = build('youtube', 'v3', developerKey=app_settings.get_secret()[\"GOOGLE\"][\"API_KEY\"])\n",
    "    request = youtube.search().list(\n",
    "        q=query,\n",
    "        part=\"id,snippet\",\n",
    "        type=\"video\",\n",
    "        maxResults=20,\n",
    "    )\n",
    "    response = request.execute()\n",
    "    for item in response['items']:\n",
    "        video_id = item['id']['videoId']\n",
    "        video_title = tr_char_to_non_tr_char(item['snippet']['title'])\n",
    "        video_link = f\"https://www.youtube.com/watch?v={video_id}\"\n",
    "        print(f\"Title: {video_title}\\nLink: {video_link}\\n\")\n",
    "        \n",
    "        # Eğer video_indir_ve_wav_donustur ve sesi_isle_ve_bol fonksiyonları bir WAV dosyası döndürürse,\n",
    "        # bunlar burada çağrılır.\n",
    "        \n",
    "        append_to_csv(video_link, video_title,tag)  # CSV'ye ekleme işlemi"
   ]
  },
  {
   "cell_type": "code",
   "execution_count": 17,
   "metadata": {},
   "outputs": [
    {
     "data": {
      "text/plain": [
       "'search_youtube(\"blackpink music \", \"NON AI COVER\")\\nsearch_youtube(\"barış manço müzik \", \"NON AI COVER\")\\nsearch_youtube(\"zekimüren muzik \", \"NON AI COVER\")\\nsearch_youtube(\"tarkan muzik \", \"NON AI COVER\")\\nsearch_youtube(\"sezen aksu muzik \", \"NON AI COVER\")\\nsearch_youtube(\"linkinpark music \", \"NON AI COVER\")\\nsearch_youtube(\"eminem music \", \"NON AI COVER\")\\nsearch_youtube(\"cem karaca music \", \"NON AI COVER\")\\nsearch_youtube(\"pink floyd music \", \"NON AI COVER\")\\nsearch_youtube(\"queen music \", \"NON AI COVER\")\\nsearch_youtube(\"metallica music \", \"NON AI COVER\")\\nsearch_youtube(\"nirvana music \", \"NON AI COVER\")'"
      ]
     },
     "execution_count": 17,
     "metadata": {},
     "output_type": "execute_result"
    }
   ],
   "source": [
    "\"\"\"search_youtube(\"blackpink music \", \"NON AI COVER\")\n",
    "search_youtube(\"barış manço müzik \", \"NON AI COVER\")\n",
    "search_youtube(\"zekimüren muzik \", \"NON AI COVER\")\n",
    "search_youtube(\"tarkan muzik \", \"NON AI COVER\")\n",
    "search_youtube(\"sezen aksu muzik \", \"NON AI COVER\")\n",
    "search_youtube(\"linkinpark music \", \"NON AI COVER\")\n",
    "search_youtube(\"eminem music \", \"NON AI COVER\")\n",
    "search_youtube(\"cem karaca music \", \"NON AI COVER\")\n",
    "search_youtube(\"pink floyd music \", \"NON AI COVER\")\n",
    "search_youtube(\"queen music \", \"NON AI COVER\")\n",
    "search_youtube(\"metallica music \", \"NON AI COVER\")\n",
    "search_youtube(\"nirvana music \", \"NON AI COVER\")\"\"\""
   ]
  },
  {
   "cell_type": "code",
   "execution_count": 18,
   "metadata": {},
   "outputs": [
    {
     "data": {
      "text/plain": [
       "'search_youtube(\"blackpink AI COVER\", \"AI COVER\")\\nsearch_youtube(\"barış manço AI COVER\", \"AI COVER\")\\nsearch_youtube(\"zekimüren AI COVER\", \"AI COVER\")\\nsearch_youtube(\"tarkan AI COVER\", \"AI COVER\")\\nsearch_youtube(\"sezen aksu AI COVER\", \"AI COVER\")\\nsearch_youtube(\"linkinpark AI COVER\", \"AI COVER\")\\nsearch_youtube(\"eminem AI COVER\", \"AI COVER\")\\nsearch_youtube(\"cem karaca AI COVER\", \"AI COVER\")\\nsearch_youtube(\"pink floyd AI COVER\", \"AI COVER\")\\nsearch_youtube(\"queen AI COVER\", \"AI COVER\")\\nsearch_youtube(\"metallica AI COVER\", \"AI COVER\")\\nsearch_youtube(\"nirvana AI COVER\", \"AI COVER\")'"
      ]
     },
     "execution_count": 18,
     "metadata": {},
     "output_type": "execute_result"
    }
   ],
   "source": [
    "\"\"\"search_youtube(\"blackpink AI COVER\", \"AI COVER\")\n",
    "search_youtube(\"barış manço AI COVER\", \"AI COVER\")\n",
    "search_youtube(\"zekimüren AI COVER\", \"AI COVER\")\n",
    "search_youtube(\"tarkan AI COVER\", \"AI COVER\")\n",
    "search_youtube(\"sezen aksu AI COVER\", \"AI COVER\")\n",
    "search_youtube(\"linkinpark AI COVER\", \"AI COVER\")\n",
    "search_youtube(\"eminem AI COVER\", \"AI COVER\")\n",
    "search_youtube(\"cem karaca AI COVER\", \"AI COVER\")\n",
    "search_youtube(\"pink floyd AI COVER\", \"AI COVER\")\n",
    "search_youtube(\"queen AI COVER\", \"AI COVER\")\n",
    "search_youtube(\"metallica AI COVER\", \"AI COVER\")\n",
    "search_youtube(\"nirvana AI COVER\", \"AI COVER\")\"\"\"\n"
   ]
  },
  {
   "cell_type": "code",
   "execution_count": 19,
   "metadata": {},
   "outputs": [],
   "source": [
    "def convert_to_wav(input_file_path):\n",
    "    \"\"\"\n",
    "    Verilen ses dosyasını FFmpeg kullanarak WAV formatına dönüştürür.\n",
    "    \"\"\"\n",
    "    # Çıktı dosyasının adını oluştur\n",
    "    output_file_path = os.path.splitext(input_file_path)[0] + '.wav'\n",
    "    \n",
    "    # Dosya zaten WAV formatında mı kontrol et\n",
    "    if input_file_path.endswith('.wav'):\n",
    "        print(f\"'{input_file_path}' already in WAV format.\")\n",
    "        return input_file_path\n",
    "    \n",
    "    # FFmpeg komutunu oluştur\n",
    "    command = ['ffmpeg', '-y', '-i', input_file_path, '-acodec', 'pcm_s16le', '-ar', '44100', '-ac', '2', output_file_path]\n",
    "\n",
    "    # FFmpeg komutunu çalıştır\n",
    "    try:\n",
    "        ##print (command)\n",
    "        print(command)\n",
    "        result = subprocess.run(command, check=True, stdout=subprocess.PIPE, stderr=subprocess.PIPE)\n",
    "        print(f\"Conversion successful: '{input_file_path}' to '{output_file_path}'\")\n",
    "        return output_file_path\n",
    "    except subprocess.CalledProcessError as e:\n",
    "        print(f\"Error during conversion: {e}\")\n",
    "        return None"
   ]
  },
  {
   "cell_type": "code",
   "execution_count": 20,
   "metadata": {},
   "outputs": [],
   "source": [
    "async def video_indir_ve_wav_donustur(url, hedef_klasor='indirilenler'):\n",
    "    if not os.path.exists(hedef_klasor):\n",
    "        os.makedirs(hedef_klasor)\n",
    "    try:\n",
    "        video = YouTube(url)\n",
    "        ses_dosyasi = video.streams.filter(only_audio=True).first()\n",
    "        indirme_yolu = ses_dosyasi.download(output_path=hedef_klasor)\n",
    "        yeni_dosya_adi = convert_to_wav(indirme_yolu)\n",
    "        os.remove(indirme_yolu)\n",
    "        return yeni_dosya_adi\n",
    "    except Exception as e:\n",
    "        print(f\"Video indirme ve dönüştürme sırasında hata oluştu: {e}\")\n",
    "        return None"
   ]
  },
  {
   "cell_type": "code",
   "execution_count": 21,
   "metadata": {},
   "outputs": [],
   "source": [
    "async def sesi_isle_ve_bol(dosya_adi, sinif, index, sr=16000):\n",
    "    #y, sr = librosa.load(dosya_adi, sr=sr)\n",
    "    #y_reduced_noise = nr.reduce_noise(y=y, sr=sr)\n",
    "\n",
    "    # İşlenmiş sesi geçici bir dosyaya kaydet\n",
    "    #temp_dosya = f'temp_{sinif}_{index}.wav'\n",
    "    #sf.write(temp_dosya, y_reduced_noise, sr)  # soundfile ile kaydet\n",
    "\n",
    "    # 30 saniyelik segmentlere böl\n",
    "    ses = AudioSegment.from_wav(dosya_adi)\n",
    "    parca_uzunlugu = 30 * 1000\n",
    "    for i in range(0, len(ses), parca_uzunlugu):\n",
    "        parca = ses[i:i + parca_uzunlugu]\n",
    "        if(parca.duration_seconds < parca_uzunlugu/1000):\n",
    "            continue # 30 saniyeden kısa parçaları atla\n",
    "        parca_adi = f\"./../Data/{sinif}/{sinif}_{index}_{i//parca_uzunlugu}.wav\"\n",
    "        if not os.path.exists(f\"./../Data/{sinif}\"):\n",
    "            os.makedirs(f\"./../Data/{sinif}\")\n",
    "        parca.export(parca_adi, format=\"wav\")\n",
    "\n",
    "    #os.remove(temp_dosya)  # Geçici dosyayı sil"
   ]
  },
  {
   "cell_type": "code",
   "execution_count": 22,
   "metadata": {},
   "outputs": [],
   "source": [
    "#CVS dosyasını oku ve her bir video için ses dosyasını indir, işle ve böl asenkron olarak \n",
    "import asyncio\n",
    "import concurrent.futures\n",
    "\n",
    "async def DownlandVideo(video, index):\n",
    "    video_link, video_title, tag = video\n",
    "    print(f\"{index}. Video: {video_title}\")\n",
    "        \n",
    "    ses_dosyasi = await video_indir_ve_wav_donustur(video_link, f'indirilenler/{tag}')\n",
    "    if ses_dosyasi:\n",
    "        await sesi_isle_ve_bol(ses_dosyasi, tag, index)\n",
    "        print(f\"{index}. Video indirildi ve WAV formatına dönüştürüldü.\")\n",
    "        return f\"{index}. Video indirildi ve WAV formatına dönüştürüldü.\"\n",
    "    else:\n",
    "        print(f\"{index}. Video indirme ve dönüştürme sırasında hata oluştu.\")\n",
    "        return f\"{index}. Video indirme ve dönüştürme sırasında hata oluştu.\"\n",
    "\n",
    "\n",
    "\n",
    "\n",
    "        "
   ]
  },
  {
   "cell_type": "code",
   "execution_count": 23,
   "metadata": {},
   "outputs": [],
   "source": [
    "\n",
    "async def task1():\n",
    "    with open('youtube_videos.csv', 'r', newline='', encoding='utf-8') as file:\n",
    "        videos = list(csv.reader(file))\n",
    "        #tag i AI COVER olanları atla\n",
    "        videos = [video for video in videos if video[2] != 'AI COVER']\n",
    "        for i, video in enumerate(videos):\n",
    "            if i == 0:  # Başlıkları atla\n",
    "                continue\n",
    "            #create a task\n",
    "            task = asyncio.create_task(DownlandVideo(video, i))\n",
    "            task.add_done_callback(lambda t: print(t.result()))\n",
    "            await task\n",
    "\n",
    "async def task2():\n",
    "    with open('youtube_videos.csv', 'r', newline='', encoding='utf-8') as file:\n",
    "        videos = list(csv.reader(file))\n",
    "        #tag i AI COVER olanları atla\n",
    "        videos = [video for video in videos if video[2] != 'NON AI COVER']\n",
    "        for i, video in enumerate(videos):\n",
    "            if i == 0:  # Başlıkları atla\n",
    "                continue\n",
    "            #create a task\n",
    "            task = asyncio.create_task(DownlandVideo(video, i))\n",
    "            task.add_done_callback(lambda t: print(t.result()))\n",
    "            await task\n",
    "\n",
    "\n"
   ]
  },
  {
   "cell_type": "code",
   "execution_count": null,
   "metadata": {},
   "outputs": [],
   "source": []
  },
  {
   "cell_type": "code",
   "execution_count": 24,
   "metadata": {},
   "outputs": [],
   "source": [
    "path = \"./indirilenler\"\n",
    "\n",
    "#her bir klasör bir tagı temsil eder\n",
    "tags = os.listdir(path)\n",
    "for tag in tags:\n",
    "    files = os.listdir(f\"{path}/{tag}\")\n",
    "    index = 0\n",
    "    for file in files:\n",
    "        tpath = f\"{path}/{tag}/{file}\"\n",
    "        await sesi_isle_ve_bol(tpath, tag, index)\n",
    "        index += 1"
   ]
  }
 ],
 "metadata": {
  "kernelspec": {
   "display_name": "DataCollectorEnv",
   "language": "python",
   "name": "python3"
  },
  "language_info": {
   "codemirror_mode": {
    "name": "ipython",
    "version": 3
   },
   "file_extension": ".py",
   "mimetype": "text/x-python",
   "name": "python",
   "nbconvert_exporter": "python",
   "pygments_lexer": "ipython3",
   "version": "3.10.14"
  }
 },
 "nbformat": 4,
 "nbformat_minor": 2
}
