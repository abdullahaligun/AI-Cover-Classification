{
 "cells": [
  {
   "cell_type": "code",
   "execution_count": 1,
   "metadata": {},
   "outputs": [
    {
     "name": "stderr",
     "output_type": "stream",
     "text": [
      "/home/aagunu/miniconda3/envs/DataCollectorEnv/lib/python3.10/site-packages/tqdm/auto.py:21: TqdmWarning: IProgress not found. Please update jupyter and ipywidgets. See https://ipywidgets.readthedocs.io/en/stable/user_install.html\n",
      "  from .autonotebook import tqdm as notebook_tqdm\n"
     ]
    },
    {
     "name": "stdout",
     "output_type": "stream",
     "text": [
      "/mnt/d/GITHUB/AI-Cover-Classification/Data Collector\n"
     ]
    }
   ],
   "source": [
    "import soundfile as sf\n",
    "from pytube import YouTube\n",
    "from pydub import AudioSegment\n",
    "import noisereduce as nr\n",
    "import librosa\n",
    "import pandas as pd\n",
    "from googleapiclient.discovery import build\n",
    "import os\n",
    "import json\n",
    "import subprocess\n",
    "import librosa\n",
    "import os\n",
    "## ../AppSettings.py import \n",
    "import sys\n",
    "sys.path.append(\"..\")\n",
    "from AppSettings import AppSetting\n",
    "\n",
    "app_settings = AppSetting()\n",
    "\n",
    "api_key = app_settings.get_secret()[\"GOOGLE\"][\"API_KEY\"]\n"
   ]
  },
  {
   "cell_type": "code",
   "execution_count": 2,
   "metadata": {},
   "outputs": [],
   "source": [
    "def convert_to_wav(input_file_path):\n",
    "    \"\"\"\n",
    "    Verilen ses dosyasını FFmpeg kullanarak WAV formatına dönüştürür.\n",
    "    \"\"\"\n",
    "    # Çıktı dosyasının adını oluştur\n",
    "    output_file_path = os.path.splitext(input_file_path)[0] + '.wav'\n",
    "    \n",
    "    # Dosya zaten WAV formatında mı kontrol et\n",
    "    if input_file_path.endswith('.wav'):\n",
    "        print(f\"'{input_file_path}' already in WAV format.\")\n",
    "        return input_file_path\n",
    "    \n",
    "    # FFmpeg komutunu oluştur\n",
    "    command = ['ffmpeg', '-y', '-i', input_file_path, '-acodec', 'pcm_s16le', '-ar', '44100', '-ac', '2', output_file_path]\n",
    "\n",
    "    # FFmpeg komutunu çalıştır\n",
    "    try:\n",
    "        ##print (command)\n",
    "        print(command)\n",
    "        result = subprocess.run(command, check=True, stdout=subprocess.PIPE, stderr=subprocess.PIPE)\n",
    "        print(f\"Conversion successful: '{input_file_path}' to '{output_file_path}'\")\n",
    "        return output_file_path\n",
    "    except subprocess.CalledProcessError as e:\n",
    "        print(f\"Error during conversion: {e}\")\n",
    "        return None"
   ]
  },
  {
   "cell_type": "code",
   "execution_count": 3,
   "metadata": {},
   "outputs": [],
   "source": [
    "def video_indir_ve_wav_donustur(url, hedef_klasor='indirilenler'):\n",
    "    if not os.path.exists(hedef_klasor):\n",
    "        os.makedirs(hedef_klasor)\n",
    "    try:\n",
    "        video = YouTube(url)\n",
    "        ses_dosyasi = video.streams.filter(only_audio=True).first()\n",
    "        indirme_yolu = ses_dosyasi.download(output_path=hedef_klasor)\n",
    "        yeni_dosya_adi = convert_to_wav(indirme_yolu)\n",
    "        os.remove(indirme_yolu)\n",
    "        return yeni_dosya_adi\n",
    "    except Exception as e:\n",
    "        print(f\"Video indirme ve dönüştürme sırasında hata oluştu: {e}\")\n",
    "        return None"
   ]
  },
  {
   "cell_type": "code",
   "execution_count": 4,
   "metadata": {},
   "outputs": [],
   "source": [
    "def sesi_isle_ve_bol(dosya_adi, sinif, index, sr=16000):\n",
    "    y, sr = librosa.load(dosya_adi, sr=sr)\n",
    "    y_reduced_noise = nr.reduce_noise(y=y, sr=sr)\n",
    "\n",
    "    # İşlenmiş sesi geçici bir dosyaya kaydet\n",
    "    temp_dosya = f'temp_{index}.wav'\n",
    "    sf.write(temp_dosya, y_reduced_noise, sr)  # soundfile ile kaydet\n",
    "\n",
    "    # 30 saniyelik segmentlere böl\n",
    "    ses = AudioSegment.from_wav(temp_dosya)\n",
    "    parca_uzunlugu = 30 * 1000\n",
    "    for i in range(0, len(ses), parca_uzunlugu):\n",
    "        parca = ses[i:i + parca_uzunlugu]\n",
    "        parca_adi = f\"{sinif}/{sinif}_{index}_{i//parca_uzunlugu}.wav\"\n",
    "        if not os.path.exists(sinif):\n",
    "            os.makedirs(sinif)\n",
    "        parca.export(parca_adi, format=\"wav\")\n",
    "\n",
    "    os.remove(temp_dosya)  # Geçici dosyayı sil"
   ]
  },
  {
   "cell_type": "code",
   "execution_count": 5,
   "metadata": {},
   "outputs": [],
   "source": [
    "\n",
    "\n",
    "youtube = build('youtube', 'v3', developerKey=api_key)\n",
    "def tr_char_to_non_tr_char(text):\n",
    "    tr = \"çğıöşüÇĞİÖŞÜ\"\n",
    "    non_tr = \"cgiosuCGIOSU\"\n",
    "    for i in range(len(tr)):\n",
    "        text = text.replace(tr[i], non_tr[i])\n",
    "    ## Remove special characters\n",
    "    text = ''.join(e for e in text if e.isalnum() or e == ' ')\n",
    "\n",
    "    return text\n",
    "def search_youtube(query):\n",
    "    request = youtube.search().list(\n",
    "        q=query,\n",
    "        part=\"id,snippet\",\n",
    "        type=\"video\",\n",
    "        maxResults=200\n",
    "    )\n",
    "    response = request.execute()\n",
    "    for item in response['items']:\n",
    "        video_id = item['id']['videoId']\n",
    "        video_title = tr_char_to_non_tr_char(item['snippet']['title'])\n",
    "        video_link = f\"https://www.youtube.com/watch?v={video_id}\"\n",
    "        print(f\"Title: {video_title}\\nLink: {video_link}\\n\")\n",
    "        wav_dosyasi = video_indir_ve_wav_donustur(video_link)\n",
    "        if wav_dosyasi is not None:\n",
    "            sesi_isle_ve_bol(wav_dosyasi, \"AI COVER\", video_title)\n"
   ]
  },
  {
   "cell_type": "code",
   "execution_count": 6,
   "metadata": {},
   "outputs": [
    {
     "name": "stdout",
     "output_type": "stream",
     "text": [
      "Title: Baris Manco Cem Karaca  Caw Bella   Ai Cover aicover  ai cover  aicovers\n",
      "Link: https://www.youtube.com/watch?v=o_MgxcZ9VxM\n",
      "\n",
      "['ffmpeg', '-y', '-i', '/mnt/d/GITHUB/AI-Cover-Classification/Data Collector/indirilenler/Barış Manço- Cem Karaca [ Çaw Bella ] - (Ai Cover) aicover  ai cover  aicovers.mp4', '-acodec', 'pcm_s16le', '-ar', '44100', '-ac', '2', '/mnt/d/GITHUB/AI-Cover-Classification/Data Collector/indirilenler/Barış Manço- Cem Karaca [ Çaw Bella ] - (Ai Cover) aicover  ai cover  aicovers.wav']\n",
      "Conversion successful: '/mnt/d/GITHUB/AI-Cover-Classification/Data Collector/indirilenler/Barış Manço- Cem Karaca [ Çaw Bella ] - (Ai Cover) aicover  ai cover  aicovers.mp4' to '/mnt/d/GITHUB/AI-Cover-Classification/Data Collector/indirilenler/Barış Manço- Cem Karaca [ Çaw Bella ] - (Ai Cover) aicover  ai cover  aicovers.wav'\n"
     ]
    }
   ],
   "source": [
    "search_youtube(\"AI COVER TÜRKÇE\")"
   ]
  }
 ],
 "metadata": {
  "kernelspec": {
   "display_name": "DataCollectorEnv",
   "language": "python",
   "name": "python3"
  },
  "language_info": {
   "codemirror_mode": {
    "name": "ipython",
    "version": 3
   },
   "file_extension": ".py",
   "mimetype": "text/x-python",
   "name": "python",
   "nbconvert_exporter": "python",
   "pygments_lexer": "ipython3",
   "version": "3.10.14"
  }
 },
 "nbformat": 4,
 "nbformat_minor": 2
}
